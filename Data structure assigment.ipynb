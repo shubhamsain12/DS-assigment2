{
 "cells": [
  {
   "cell_type": "code",
   "execution_count": 3,
   "id": "69acf239-9995-471a-a65b-938f2ed38c3c",
   "metadata": {},
   "outputs": [
    {
     "data": {
      "text/plain": [
       "'Q1 \\nans:- we comment the code in python by using  and by using and it is two type.'"
      ]
     },
     "execution_count": 3,
     "metadata": {},
     "output_type": "execute_result"
    }
   ],
   "source": [
    "\"\"\"Q1 \n",
    "ans:- we comment the code in python by using  and by using and it is two type.\"\"\"\n",
    "#.\n",
    " "
   ]
  },
  {
   "cell_type": "code",
   "execution_count": 4,
   "id": "ca6a5e9c-a301-42a5-a9a8-c45b91311704",
   "metadata": {},
   "outputs": [],
   "source": [
    "#Q2 variable like a container in which we store a value.\n",
    "# like a= 10 in this a is a variable and 10 is value.\n",
    "a=10"
   ]
  },
  {
   "cell_type": "code",
   "execution_count": 5,
   "id": "db249ec5-2b8b-41af-a3e7-f025c214bfb2",
   "metadata": {},
   "outputs": [
    {
     "data": {
      "text/plain": [
       "10"
      ]
     },
     "execution_count": 5,
     "metadata": {},
     "output_type": "execute_result"
    }
   ],
   "source": [
    "a"
   ]
  },
  {
   "cell_type": "code",
   "execution_count": 6,
   "id": "a45f3a25-fdae-4864-9d57-a593594efdb7",
   "metadata": {},
   "outputs": [],
   "source": [
    "a=\"shubham\"#here is string"
   ]
  },
  {
   "cell_type": "code",
   "execution_count": 7,
   "id": "707b3128-477f-45c8-8100-f5fdc754cd46",
   "metadata": {},
   "outputs": [
    {
     "data": {
      "text/plain": [
       "'shubham'"
      ]
     },
     "execution_count": 7,
     "metadata": {},
     "output_type": "execute_result"
    }
   ],
   "source": [
    "a"
   ]
  },
  {
   "cell_type": "code",
   "execution_count": 8,
   "id": "d2b71eac-172a-40dc-9a2b-c62d88969955",
   "metadata": {},
   "outputs": [],
   "source": [
    "a=12.23"
   ]
  },
  {
   "cell_type": "code",
   "execution_count": 10,
   "id": "af30f1a3-a248-416e-846c-6b1839c634d1",
   "metadata": {},
   "outputs": [],
   "source": [
    "a#float\n",
    "b=4+6j#complex number "
   ]
  },
  {
   "cell_type": "code",
   "execution_count": 11,
   "id": "10f3ec3b-e999-4fdb-8bdf-0fa3b7926d34",
   "metadata": {},
   "outputs": [
    {
     "data": {
      "text/plain": [
       "(4+6j)"
      ]
     },
     "execution_count": 11,
     "metadata": {},
     "output_type": "execute_result"
    }
   ],
   "source": [
    "b"
   ]
  },
  {
   "cell_type": "code",
   "execution_count": 17,
   "id": "ecaa9fb8-d165-46e5-bb57-0db27ff46a93",
   "metadata": {},
   "outputs": [
    {
     "name": "stdout",
     "output_type": "stream",
     "text": [
      "<class 'int'>\n",
      "<class 'str'>\n"
     ]
    }
   ],
   "source": [
    "#Q3\n",
    "a=10\n",
    "print(type(a))\n",
    "a=str(a)\n",
    "print(type(a))"
   ]
  },
  {
   "cell_type": "code",
   "execution_count": 15,
   "id": "4e42ac48-f62d-423f-b737-368a2a8f107e",
   "metadata": {},
   "outputs": [
    {
     "data": {
      "text/plain": [
       "'10'"
      ]
     },
     "execution_count": 15,
     "metadata": {},
     "output_type": "execute_result"
    }
   ],
   "source": [
    "a"
   ]
  },
  {
   "cell_type": "code",
   "execution_count": 16,
   "id": "e83cacfa-0c57-4365-8a7c-86cde81d11c2",
   "metadata": {},
   "outputs": [
    {
     "data": {
      "text/plain": [
       "str"
      ]
     },
     "execution_count": 16,
     "metadata": {},
     "output_type": "execute_result"
    }
   ],
   "source": [
    "type(a)"
   ]
  },
  {
   "cell_type": "code",
   "execution_count": 18,
   "id": "dc0b30db-74fb-481a-a9f1-bc11c8d5882d",
   "metadata": {},
   "outputs": [],
   "source": [
    "#Q4  create a Python file by typing \"vim\" along withthe file name in terminal"
   ]
  },
  {
   "cell_type": "code",
   "execution_count": 20,
   "id": "ae7196d5-73fe-4de6-afe0-b91897c9b088",
   "metadata": {},
   "outputs": [
    {
     "data": {
      "text/plain": [
       "[2, 3]"
      ]
     },
     "execution_count": 20,
     "metadata": {},
     "output_type": "execute_result"
    }
   ],
   "source": [
    "#Q5\n",
    "my_list=[1,2,3,4,5]\n",
    "my_list[1:3]"
   ]
  },
  {
   "cell_type": "markdown",
   "id": "834df9b6-2691-4ffd-986a-31bbe6a6572c",
   "metadata": {},
   "source": [
    "#Q6 in python we consist two number first is real and second is imaginary number in pyhton  we  use j like 5+6j."
   ]
  },
  {
   "cell_type": "raw",
   "id": "9e88bfd3-1586-4f3c-80af-a5554302288d",
   "metadata": {},
   "source": [
    "#Q7"
   ]
  },
  {
   "cell_type": "code",
   "execution_count": 22,
   "id": "5e64956f-f2e8-4842-ad1f-3c3e54a7d77b",
   "metadata": {},
   "outputs": [],
   "source": [
    "age=25"
   ]
  },
  {
   "cell_type": "code",
   "execution_count": 23,
   "id": "cac014b0-045f-4fee-98f6-76946b0fa76c",
   "metadata": {},
   "outputs": [
    {
     "data": {
      "text/plain": [
       "25"
      ]
     },
     "execution_count": 23,
     "metadata": {},
     "output_type": "execute_result"
    }
   ],
   "source": [
    "age"
   ]
  },
  {
   "cell_type": "code",
   "execution_count": 24,
   "id": "0e85eeb4-4c24-42be-bb53-9f83cfef8eca",
   "metadata": {},
   "outputs": [],
   "source": [
    "#Q8\n",
    "price=9.99"
   ]
  },
  {
   "cell_type": "code",
   "execution_count": 25,
   "id": "d2c04da4-306a-43ac-ba1a-164a1c2f609c",
   "metadata": {},
   "outputs": [
    {
     "data": {
      "text/plain": [
       "float"
      ]
     },
     "execution_count": 25,
     "metadata": {},
     "output_type": "execute_result"
    }
   ],
   "source": [
    "type(price)"
   ]
  },
  {
   "cell_type": "code",
   "execution_count": 32,
   "id": "0896c065-1e64-4dbb-8245-77546e9d39f6",
   "metadata": {},
   "outputs": [
    {
     "name": "stdout",
     "output_type": "stream",
     "text": [
      "shubham sain\n"
     ]
    }
   ],
   "source": [
    "#Q9\n",
    "name=\"shubham sain\"\n",
    "print(name)"
   ]
  },
  {
   "cell_type": "code",
   "execution_count": null,
   "id": "d1e8b17a-8221-4e6c-ab3d-81dca7fe1c5e",
   "metadata": {},
   "outputs": [],
   "source": [
    "\n"
   ]
  },
  {
   "cell_type": "code",
   "execution_count": 28,
   "id": "e58e4f5b-eddf-4ab3-bf67-df90dc2aff38",
   "metadata": {},
   "outputs": [
    {
     "data": {
      "text/plain": [
       "'World'"
      ]
     },
     "execution_count": 28,
     "metadata": {},
     "output_type": "execute_result"
    }
   ],
   "source": [
    "#Q10\n",
    "str=\"Hello,World!\"\n",
    "str[6:11]\n"
   ]
  },
  {
   "cell_type": "code",
   "execution_count": 35,
   "id": "6c9679ff-f823-4437-b73a-32e73c9960bc",
   "metadata": {},
   "outputs": [
    {
     "name": "stdout",
     "output_type": "stream",
     "text": [
      "True\n"
     ]
    }
   ],
   "source": [
    "#11\n",
    "is_student=True\n",
    "print(is_student)"
   ]
  },
  {
   "cell_type": "code",
   "execution_count": null,
   "id": "343ae3b1-7b1f-4c30-a609-db721c6196fa",
   "metadata": {},
   "outputs": [],
   "source": []
  }
 ],
 "metadata": {
  "kernelspec": {
   "display_name": "Python 3 (ipykernel)",
   "language": "python",
   "name": "python3"
  },
  "language_info": {
   "codemirror_mode": {
    "name": "ipython",
    "version": 3
   },
   "file_extension": ".py",
   "mimetype": "text/x-python",
   "name": "python",
   "nbconvert_exporter": "python",
   "pygments_lexer": "ipython3",
   "version": "3.10.8"
  }
 },
 "nbformat": 4,
 "nbformat_minor": 5
}
